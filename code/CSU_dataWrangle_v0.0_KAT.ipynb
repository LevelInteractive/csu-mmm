{
 "cells": [
  {
   "cell_type": "markdown",
   "id": "29ce30a3-8189-4b4d-9596-bcbf79ebc741",
   "metadata": {},
   "source": [
    "# Boilerplate"
   ]
  },
  {
   "cell_type": "code",
   "execution_count": 1,
   "id": "87c3dc41-e446-4040-a21a-d4e19fe5b21e",
   "metadata": {},
   "outputs": [],
   "source": [
    "import pandas as pd\n",
    "import datetime as dt\n",
    "import matplotlib.pyplot as plt\n",
    "import seaborn as sns\n",
    "import numpy as np\n",
    "import matplotlib as mpl\n",
    "\n",
    "import warnings\n",
    "warnings.simplefilter(action='ignore', category=FutureWarning)\n",
    "\n",
    "pd.set_option('display.precision', 2)\n",
    "pd.set_option('display.float_format',  '{:,.2f}'.format)"
   ]
  },
  {
   "cell_type": "code",
   "execution_count": 3,
   "id": "e666c083-b268-4822-a9b6-8fc5248db7a5",
   "metadata": {},
   "outputs": [],
   "source": [
    "# kpi_raw = pd.read_csv('../data/CSU_KPI_raw_2022-01-01_2025-01-15.csv')\n",
    "kpi_raw = pd.read_csv('../data/CSU_KPI_raw_2022-01-01_2025-02-07.csv')\n",
    "\n",
    "tiktok_raw = pd.read_csv('../data/CSU_data_tiktok_raw_2024-01-15.csv')\n",
    "meta_raw = pd.read_csv('../data/CSU_data_meta_raw_2024-01-15.csv')\n",
    "google_raw = pd.read_csv('../data/CSU_data_google_raw_2024-01-15.csv')\n",
    "bing_raw = pd.read_csv('../data/CSU_data_bing_raw_2024-01-15.csv')\n",
    "ttd_raw = pd.read_csv('../data/CSU_data_TTD_raw_2024-01-15.csv')\n",
    "linkedin_raw = pd.read_csv('../data/CSU_data_linkedin_raw_2024-01-15.csv')\n",
    "\n",
    "rev_map_raw = pd.read_excel('../data/Average revenue per application per week.xlsx')"
   ]
  },
  {
   "cell_type": "markdown",
   "id": "afc52233-b8f8-4d1a-9ab1-14f9b5d6da56",
   "metadata": {},
   "source": [
    "# Process KPIs"
   ]
  },
  {
   "cell_type": "markdown",
   "id": "97cc3be9-cdc7-4a85-af12-0e1afcba4ae4",
   "metadata": {},
   "source": [
    "## wrangle KPIs"
   ]
  },
  {
   "cell_type": "code",
   "execution_count": 116,
   "id": "4fa4e609-8365-4a61-9ae7-e348a2ec0f6e",
   "metadata": {},
   "outputs": [],
   "source": [
    "# list_awareness = ['GREENVLL-SPART-ASHEVLL-AND', 'GREENWOOD-GREENVILLE', 'JACKSONVILLE', 'ORLANDO-DAYTONA BCH-MELBRN', 'BIRMINGHAM (ANN AND TUSC)']\n",
    "list_awareness = ['GREENVLL-SPART-ASHEVLL-AND', 'JACKSONVILLE', 'ORLANDO-DAYTONA BCH-MELBRN', 'BIRMINGHAM (ANN AND TUSC)']\n",
    "\n",
    "df_kpi_full = kpi_raw.copy()\n",
    "df_kpi_full['leaddate'] = pd.to_datetime(df_kpi_full['leaddate']).dt.normalize()\n",
    "df_kpi_full['appdate'] = pd.to_datetime(df_kpi_full['appdate']).dt.normalize()\n",
    "df_kpi_full['enrolldate'] = pd.to_datetime(df_kpi_full['enrolldate']).dt.normalize()\n",
    "\n",
    "df_kpi_full['model'] = None\n",
    "df_kpi_full.loc[df_kpi_full['dmaname'].str.match('|'.join(list_awareness), na=False), 'model'] = 'awareness'\n",
    "df_kpi_full.loc[df_kpi_full['dmaname'].str.contains('MOBILE-PENSACOLA', na=False), 'model'] = 'mobile'\n",
    "df_kpi_full.loc[df_kpi_full['model'].isna(), 'model'] = 'national'\n",
    "df_kpi_full = df_kpi_full.loc[df_kpi_full['leaddate'] < pd.Timestamp.today()].drop(['dmaname'], axis=1) \n",
    "\n",
    "df_kpi_full['channel'] = None\n",
    "df_kpi_full.loc[df_kpi_full['dw_channel'].str.contains('PPL'), 'channel'] = 'PPL'\n",
    "df_kpi_full.loc[df_kpi_full['channel'].isna(), 'channel'] = 'ALL(No PPL,Referral)' #NO PPL BUT Everything else\n",
    "df_kpi_full = df_kpi_full.loc[df_kpi_full.leaddate < '2025-01-10'] ##keeping with saturday-friday\n",
    "\n",
    "df_kpi_cohort = df_kpi_full.loc[df_kpi_full.model != 'mobile'].copy()\n",
    "df_kpi_cohort = df_kpi_cohort.loc[df_kpi_full.channel != 'PPL'].copy()\n",
    "\n",
    "df_kpi_cohort = df_kpi_cohort[['leaddate','n_lead','n_app','model']].reset_index(drop=True)\n",
    "\n",
    "df_kpi_cohort = df_kpi_cohort.groupby(['leaddate','model']).agg(n_app=('n_app','sum'), n_lead=('n_lead','sum'))\n",
    "df_kpi_daily = df_kpi_cohort.unstack('model').fillna(0)\n",
    "df_kpi_weekly = df_kpi_daily.resample('W-Sat').sum()\n",
    "df_kpi_weekly.index.name='date'\n",
    "# df_kpi_weekly = df_kpi_weekly.droplevel(0, axis=1)\n",
    "# df_kpi_weekly = df_kpi_weekly.reset_index(drop=False)\n",
    "# df_kpi_weekly = df_kpi_weekly.rename(columns={'leaddate':'date'})\n",
    "\n",
    "model_name, model_kpi = 'awareness', 'n_lead'\n",
    "\n",
    "dict_models = {}\n",
    "dict_models[model_name] = df_kpi_weekly[(model_kpi, model_name)].copy()\n",
    "dict_models[model_name] = pd.DataFrame(dict_models[model_name]) \n",
    "dict_models[model_name].columns = [model_kpi]\n",
    "dict_models[model_name] = dict_models[model_name].reset_index(drop=False)\n",
    "\n",
    "# dict_models['awareness'] = dict_models['awareness'].rename(columns={'awareness':'n_app'})\n",
    "# dict_models['awareness'].columns.name=None\n",
    "\n",
    "model_name, model_kpi = 'national', 'n_app'\n",
    "\n",
    "dict_models[model_name] = df_kpi_weekly[(model_kpi, model_name)].copy()\n",
    "dict_models[model_name] = pd.DataFrame(dict_models[model_name]) \n",
    "dict_models[model_name].columns = [model_kpi]\n",
    "dict_models[model_name] = dict_models[model_name].reset_index(drop=False)"
   ]
  },
  {
   "cell_type": "markdown",
   "id": "4a5566c1-dda6-41c9-9a78-5331ae7e85bc",
   "metadata": {},
   "source": [
    "## Investigate lead to app "
   ]
  },
  {
   "cell_type": "code",
   "execution_count": 148,
   "id": "167ce8df-42b9-4f85-af98-15293cccdbce",
   "metadata": {},
   "outputs": [],
   "source": [
    "df_perc = df_kpi_full.loc[df_kpi_full.model=='awareness', ['n_lead','n_app']].sum()\n",
    "lead2app_awareness = df_perc['n_app']/df_perc['n_lead']\n",
    "\n",
    "lag_hist = np.round(df_kpi_daily[('n_lead','awareness')].sub(df_kpi_daily[('n_app','awareness')]).values/7)\n",
    "df_hist = pd.DataFrame({'n_wk': lag_hist})"
   ]
  },
  {
   "cell_type": "code",
   "execution_count": 150,
   "id": "a66074d7-c888-4075-9e04-e9e8129bfb0e",
   "metadata": {},
   "outputs": [
    {
     "data": {
      "text/plain": [
       "array([[<Axes: title={'center': 'n_wk'}>]], dtype=object)"
      ]
     },
     "execution_count": 150,
     "metadata": {},
     "output_type": "execute_result"
    },
    {
     "data": {
      "image/png": "[encoded data removed]",
      "text/plain": [
       "<Figure size 640x480 with 1 Axes>"
      ]
     },
     "metadata": {},
     "output_type": "display_data"
    }
   ],
   "source": [
    "df_hist.hist()"
   ]
  },
  {
   "cell_type": "code",
   "execution_count": null,
   "id": "5ca20dee-0665-4308-876f-d9876885ee16",
   "metadata": {},
   "outputs": [],
   "source": [
    "# Ok, no real lag, so I'm not lagging the revenue further, just scaling down from app to leads."
   ]
  },
  {
   "cell_type": "code",
   "execution_count": 151,
   "id": "8e290896-841e-4ca5-b795-8123ecd2dc1a",
   "metadata": {},
   "outputs": [
    {
     "data": {
      "text/plain": [
       "0.22142372881355932"
      ]
     },
     "execution_count": 151,
     "metadata": {},
     "output_type": "execute_result"
    }
   ],
   "source": [
    "lead2app_awareness"
   ]
  },
  {
   "cell_type": "code",
   "execution_count": 154,
   "id": "e3e5fefa-e510-4bf6-b1bf-f55ec754d538",
   "metadata": {},
   "outputs": [],
   "source": [
    "rev_map_app = rev_map_raw[[2023]].copy()\n",
    "rev_map_app = rev_map_app[~rev_map_app[2023].isna()]\n",
    "rev_map_lead = rev_map_app.mul(lead2app_awareness)"
   ]
  },
  {
   "cell_type": "code",
   "execution_count": 161,
   "id": "5d441281-4a1c-4c3a-b0f3-10ce1e09c8f2",
   "metadata": {},
   "outputs": [
    {
     "data": {
      "text/html": [
       "<div>\n",
       "<style scoped>\n",
       "    .dataframe tbody tr th:only-of-type {\n",
       "        vertical-align: middle;\n",
       "    }\n",
       "\n",
       "    .dataframe tbody tr th {\n",
       "        vertical-align: top;\n",
       "    }\n",
       "\n",
       "    .dataframe thead th {\n",
       "        text-align: right;\n",
       "    }\n",
       "</style>\n",
       "<table border=\"1\" class=\"dataframe\">\n",
       "  <thead>\n",
       "    <tr style=\"text-align: right;\">\n",
       "      <th></th>\n",
       "      <th>date</th>\n",
       "      <th>n_lead</th>\n",
       "    </tr>\n",
       "  </thead>\n",
       "  <tbody>\n",
       "    <tr>\n",
       "      <th>0</th>\n",
       "      <td>2022-01-01</td>\n",
       "      <td>0.00</td>\n",
       "    </tr>\n",
       "    <tr>\n",
       "      <th>1</th>\n",
       "      <td>2022-01-08</td>\n",
       "      <td>20.00</td>\n",
       "    </tr>\n",
       "    <tr>\n",
       "      <th>2</th>\n",
       "      <td>2022-01-15</td>\n",
       "      <td>34.00</td>\n",
       "    </tr>\n",
       "    <tr>\n",
       "      <th>3</th>\n",
       "      <td>2022-01-22</td>\n",
       "      <td>31.00</td>\n",
       "    </tr>\n",
       "    <tr>\n",
       "      <th>4</th>\n",
       "      <td>2022-01-29</td>\n",
       "      <td>34.00</td>\n",
       "    </tr>\n",
       "    <tr>\n",
       "      <th>...</th>\n",
       "      <td>...</td>\n",
       "      <td>...</td>\n",
       "    </tr>\n",
       "    <tr>\n",
       "      <th>154</th>\n",
       "      <td>2024-12-14</td>\n",
       "      <td>59.00</td>\n",
       "    </tr>\n",
       "    <tr>\n",
       "      <th>155</th>\n",
       "      <td>2024-12-21</td>\n",
       "      <td>51.00</td>\n",
       "    </tr>\n",
       "    <tr>\n",
       "      <th>156</th>\n",
       "      <td>2024-12-28</td>\n",
       "      <td>54.00</td>\n",
       "    </tr>\n",
       "    <tr>\n",
       "      <th>157</th>\n",
       "      <td>2025-01-04</td>\n",
       "      <td>56.00</td>\n",
       "    </tr>\n",
       "    <tr>\n",
       "      <th>158</th>\n",
       "      <td>2025-01-11</td>\n",
       "      <td>60.00</td>\n",
       "    </tr>\n",
       "  </tbody>\n",
       "</table>\n",
       "<p>159 rows × 2 columns</p>\n",
       "</div>"
      ],
      "text/plain": [
       "          date  n_lead\n",
       "0   2022-01-01    0.00\n",
       "1   2022-01-08   20.00\n",
       "2   2022-01-15   34.00\n",
       "3   2022-01-22   31.00\n",
       "4   2022-01-29   34.00\n",
       "..         ...     ...\n",
       "154 2024-12-14   59.00\n",
       "155 2024-12-21   51.00\n",
       "156 2024-12-28   54.00\n",
       "157 2025-01-04   56.00\n",
       "158 2025-01-11   60.00\n",
       "\n",
       "[159 rows x 2 columns]"
      ]
     },
     "execution_count": 161,
     "metadata": {},
     "output_type": "execute_result"
    }
   ],
   "source": [
    "dict_models['awareness']"
   ]
  },
  {
   "cell_type": "code",
   "execution_count": 166,
   "id": "60ba091a-bc18-494b-a77e-c49ad440a093",
   "metadata": {},
   "outputs": [],
   "source": [
    "kernel_app = rev_map_app.values.flatten() #len = 52\n",
    "kernel_lead = rev_map_lead.values.flatten() #len = 52\n",
    "\n",
    "x_val_awareness = np.array(dict_models['awareness']['n_lead'].values) #len = 159\n",
    "x_val_national = np.array(dict_models['national']['n_app'].values) #len = 159\n",
    "\n",
    "revenue_app_aware = np.convolve(x_val_a, kernel_lead, mode='same')"
   ]
  },
  {
   "cell_type": "code",
   "execution_count": null,
   "id": "7e21e78e-ecef-40d4-a68a-4bdbdee0cedc",
   "metadata": {},
   "outputs": [],
   "source": []
  },
  {
   "cell_type": "code",
   "execution_count": 178,
   "id": "a78ef654-fb4f-41da-a2cc-ba334db64af6",
   "metadata": {},
   "outputs": [
    {
     "data": {
      "text/plain": [
       "array([ 15., 186., 195., 208., 215., 185., 184., 187., 167., 146., 172.,\n",
       "       182., 145., 172., 177., 161., 152., 186., 175., 177., 169., 169.,\n",
       "       156., 150., 173., 154., 174., 174., 195., 187., 186., 187., 185.,\n",
       "       220., 212., 170., 173., 166., 180., 142., 163., 135., 183., 188.,\n",
       "       162., 185., 167., 103., 157., 179., 193., 133., 127., 248., 319.,\n",
       "       319., 354., 334., 286., 265., 244., 299., 317., 271., 358., 262.,\n",
       "       235., 277., 265., 301., 296., 299., 316., 285., 256., 303., 297.,\n",
       "       288., 299., 214., 281., 303., 358., 312., 377., 327., 344., 336.,\n",
       "       247., 340., 295., 344., 207., 244., 294., 294., 257., 311., 296.,\n",
       "       168., 294., 255., 266., 232., 210., 238., 301., 275., 285., 303.,\n",
       "       245., 245., 277., 305., 268., 218., 315., 254., 252., 275., 449.,\n",
       "       289., 297., 321., 341., 281., 258., 271., 259., 295., 276., 224.,\n",
       "       300., 311., 332., 310., 324., 291., 314., 276., 244., 239., 251.,\n",
       "       241., 218., 190., 242., 239., 223., 285., 259., 287., 180., 251.,\n",
       "       245., 242., 166., 253., 235.])"
      ]
     },
     "execution_count": 178,
     "metadata": {},
     "output_type": "execute_result"
    }
   ],
   "source": [
    "x_val_national"
   ]
  },
  {
   "cell_type": "code",
   "execution_count": 179,
   "id": "ecf59d36-fef1-4119-bd4e-67e0b29abaff",
   "metadata": {},
   "outputs": [
    {
     "data": {
      "text/plain": [
       "array([ 0.294394,  3.691986,  9.650219, 16.641804, 24.975806, 32.94221 ,\n",
       "       35.600198, 34.971241, 30.611367, 24.572852, 24.899847, 24.157337,\n",
       "       26.070872, 31.462738, 38.157705, 36.705655, 40.954153, 38.866414,\n",
       "       30.180865, 29.089487, 26.101259, 26.398611, 29.386438, 34.679509,\n",
       "       36.379112, 40.484554, 38.400775, 35.725115, 31.162839, 26.279154,\n",
       "       23.568867, 26.014152, 29.950694, 34.583563, 40.421887, 38.738536,\n",
       "       35.794609, 33.121956, 28.367263, 23.192897, 24.486925, 24.946243,\n",
       "       30.709768, 37.485607, 37.302613, 32.473372, 32.83107 , 27.955761,\n",
       "       23.369885, 23.738781, 24.448994, 27.387037])"
      ]
     },
     "execution_count": 179,
     "metadata": {},
     "output_type": "execute_result"
    }
   ],
   "source": [
    "kernel_app"
   ]
  },
  {
   "cell_type": "code",
   "execution_count": null,
   "id": "53dc0557-36c6-45d7-b661-cebc244ab65a",
   "metadata": {},
   "outputs": [],
   "source": []
  },
  {
   "cell_type": "code",
   "execution_count": 329,
   "id": "a924f9d3-c7c7-4e6d-97b1-0041d9a433d5",
   "metadata": {},
   "outputs": [],
   "source": [
    "# def create_shifted_array(arr, shifts, n_pad=None):\n",
    "def create_shifted_array(arr_in, n_size):\n",
    "    \"\"\"\n",
    "    Creates an array containing shifted versions of the input array.\n",
    "\n",
    "    Args:\n",
    "        arr (numpy.ndarray): The input array.\n",
    "        shifts (list of int): A list of integers representing the shift amounts.\n",
    "        n_pad (int): how\n",
    "\n",
    "    Returns:\n",
    "        numpy.ndarray: An array where each row is a shifted version of the input array.\n",
    "    \"\"\"\n",
    "    arr_in = arr_in.reshape(-1)\n",
    "    arr = np.zeros(n_size)\n",
    "    arr[:len(arr_in)] = arr_in\n",
    "    arr_out = np.zeros((n_size, n_size))\n",
    "    shifts = np.arange(n_size)\n",
    "    for shift in shifts:\n",
    "        tmp = np.roll(arr, shift)\n",
    "        tmp[:shift] = 0\n",
    "        arr_out[:, shift] = tmp\n",
    "        #     rows.append(tmp)\n",
    "    return arr_out\n",
    "\n",
    "def calc_conv(k, v):\n",
    "    k = np.array(k)\n",
    "    v_out = np.array(v)\n",
    "    v_out = v_out.reshape(-1)\n",
    "    k_mat = create_shifted_array(k, len(v))\n",
    "    conv = np.sum(k_mat*v_out, -1)\n",
    "    return conv"
   ]
  },
  {
   "cell_type": "code",
   "execution_count": 335,
   "id": "3b76c5c2-6b22-41a7-a22b-e38ae9a4fba5",
   "metadata": {},
   "outputs": [],
   "source": [
    "rev_nat = calc_conv(kernel_app, x_val_national)\n",
    "rev_aw = calc_conv(kernel_lead, x_val_awareness)"
   ]
  },
  {
   "cell_type": "code",
   "execution_count": null,
   "id": "7ad10064-1066-44bd-b95c-f64c2455046e",
   "metadata": {},
   "outputs": [],
   "source": []
  },
  {
   "cell_type": "code",
   "execution_count": 373,
   "id": "32bcb2da-4c52-4ce3-828d-7b00f847b735",
   "metadata": {},
   "outputs": [
    {
     "data": {
      "text/plain": [
       "0     2022-01-01\n",
       "1     2022-01-08\n",
       "2     2022-01-15\n",
       "3     2022-01-22\n",
       "4     2022-01-29\n",
       "         ...    \n",
       "154   2024-12-14\n",
       "155   2024-12-21\n",
       "156   2024-12-28\n",
       "157   2025-01-04\n",
       "158   2025-01-11\n",
       "Name: date, Length: 159, dtype: datetime64[ns]"
      ]
     },
     "execution_count": 373,
     "metadata": {},
     "output_type": "execute_result"
    }
   ],
   "source": [
    "dict_models['national']['date']"
   ]
  },
  {
   "cell_type": "code",
   "execution_count": 378,
   "id": "d14155df-14e2-4bbd-bc2f-d3b0c5549c26",
   "metadata": {},
   "outputs": [],
   "source": [
    "df_national_rev = pd.DataFrame({'date': dict_models['national']['date'], 'revenue': rev_nat})\n",
    "df_awareness_rev = pd.DataFrame({'date': dict_models['awareness']['date'], 'revenue': rev_aw})"
   ]
  },
  {
   "cell_type": "code",
   "execution_count": 379,
   "id": "9a1f1bdd-a893-4630-a506-353785f9219e",
   "metadata": {},
   "outputs": [
    {
     "data": {
      "text/html": [
       "<div>\n",
       "<style scoped>\n",
       "    .dataframe tbody tr th:only-of-type {\n",
       "        vertical-align: middle;\n",
       "    }\n",
       "\n",
       "    .dataframe tbody tr th {\n",
       "        vertical-align: top;\n",
       "    }\n",
       "\n",
       "    .dataframe thead th {\n",
       "        text-align: right;\n",
       "    }\n",
       "</style>\n",
       "<table border=\"1\" class=\"dataframe\">\n",
       "  <thead>\n",
       "    <tr style=\"text-align: right;\">\n",
       "      <th></th>\n",
       "      <th>date</th>\n",
       "      <th>revenue</th>\n",
       "    </tr>\n",
       "  </thead>\n",
       "  <tbody>\n",
       "    <tr>\n",
       "      <th>0</th>\n",
       "      <td>2022-01-01</td>\n",
       "      <td>4.42</td>\n",
       "    </tr>\n",
       "    <tr>\n",
       "      <th>1</th>\n",
       "      <td>2022-01-08</td>\n",
       "      <td>110.14</td>\n",
       "    </tr>\n",
       "    <tr>\n",
       "      <th>2</th>\n",
       "      <td>2022-01-15</td>\n",
       "      <td>888.87</td>\n",
       "    </tr>\n",
       "    <tr>\n",
       "      <th>3</th>\n",
       "      <td>2022-01-22</td>\n",
       "      <td>2,825.74</td>\n",
       "    </tr>\n",
       "    <tr>\n",
       "      <th>4</th>\n",
       "      <td>2022-01-29</td>\n",
       "      <td>6,183.03</td>\n",
       "    </tr>\n",
       "    <tr>\n",
       "      <th>...</th>\n",
       "      <td>...</td>\n",
       "      <td>...</td>\n",
       "    </tr>\n",
       "    <tr>\n",
       "      <th>154</th>\n",
       "      <td>2024-12-14</td>\n",
       "      <td>417,521.13</td>\n",
       "    </tr>\n",
       "    <tr>\n",
       "      <th>155</th>\n",
       "      <td>2024-12-21</td>\n",
       "      <td>417,879.27</td>\n",
       "    </tr>\n",
       "    <tr>\n",
       "      <th>156</th>\n",
       "      <td>2024-12-28</td>\n",
       "      <td>418,518.25</td>\n",
       "    </tr>\n",
       "    <tr>\n",
       "      <th>157</th>\n",
       "      <td>2025-01-04</td>\n",
       "      <td>417,772.01</td>\n",
       "    </tr>\n",
       "    <tr>\n",
       "      <th>158</th>\n",
       "      <td>2025-01-11</td>\n",
       "      <td>414,581.57</td>\n",
       "    </tr>\n",
       "  </tbody>\n",
       "</table>\n",
       "<p>159 rows × 2 columns</p>\n",
       "</div>"
      ],
      "text/plain": [
       "          date    revenue\n",
       "0   2022-01-01       4.42\n",
       "1   2022-01-08     110.14\n",
       "2   2022-01-15     888.87\n",
       "3   2022-01-22   2,825.74\n",
       "4   2022-01-29   6,183.03\n",
       "..         ...        ...\n",
       "154 2024-12-14 417,521.13\n",
       "155 2024-12-21 417,879.27\n",
       "156 2024-12-28 418,518.25\n",
       "157 2025-01-04 417,772.01\n",
       "158 2025-01-11 414,581.57\n",
       "\n",
       "[159 rows x 2 columns]"
      ]
     },
     "execution_count": 379,
     "metadata": {},
     "output_type": "execute_result"
    }
   ],
   "source": [
    "df_national_rev.to_csv('../data/national_revenue_2025-02-07.csv')\n",
    "df__rev.to_csv('../data/national_revenue_2025-02-07.csv')"
   ]
  },
  {
   "cell_type": "code",
   "execution_count": 380,
   "id": "7daa6bd3-8440-4f7d-be0c-fae3f5a1031e",
   "metadata": {},
   "outputs": [
    {
     "data": {
      "text/html": [
       "<div>\n",
       "<style scoped>\n",
       "    .dataframe tbody tr th:only-of-type {\n",
       "        vertical-align: middle;\n",
       "    }\n",
       "\n",
       "    .dataframe tbody tr th {\n",
       "        vertical-align: top;\n",
       "    }\n",
       "\n",
       "    .dataframe thead th {\n",
       "        text-align: right;\n",
       "    }\n",
       "</style>\n",
       "<table border=\"1\" class=\"dataframe\">\n",
       "  <thead>\n",
       "    <tr style=\"text-align: right;\">\n",
       "      <th></th>\n",
       "      <th>date</th>\n",
       "      <th>revenue</th>\n",
       "    </tr>\n",
       "  </thead>\n",
       "  <tbody>\n",
       "    <tr>\n",
       "      <th>0</th>\n",
       "      <td>2022-01-01</td>\n",
       "      <td>0.00</td>\n",
       "    </tr>\n",
       "    <tr>\n",
       "      <th>1</th>\n",
       "      <td>2022-01-08</td>\n",
       "      <td>1.30</td>\n",
       "    </tr>\n",
       "    <tr>\n",
       "      <th>2</th>\n",
       "      <td>2022-01-15</td>\n",
       "      <td>18.57</td>\n",
       "    </tr>\n",
       "    <tr>\n",
       "      <th>3</th>\n",
       "      <td>2022-01-22</td>\n",
       "      <td>72.55</td>\n",
       "    </tr>\n",
       "    <tr>\n",
       "      <th>4</th>\n",
       "      <td>2022-01-29</td>\n",
       "      <td>173.91</td>\n",
       "    </tr>\n",
       "    <tr>\n",
       "      <th>...</th>\n",
       "      <td>...</td>\n",
       "      <td>...</td>\n",
       "    </tr>\n",
       "    <tr>\n",
       "      <th>154</th>\n",
       "      <td>2024-12-14</td>\n",
       "      <td>17,968.34</td>\n",
       "    </tr>\n",
       "    <tr>\n",
       "      <th>155</th>\n",
       "      <td>2024-12-21</td>\n",
       "      <td>18,151.65</td>\n",
       "    </tr>\n",
       "    <tr>\n",
       "      <th>156</th>\n",
       "      <td>2024-12-28</td>\n",
       "      <td>18,269.34</td>\n",
       "    </tr>\n",
       "    <tr>\n",
       "      <th>157</th>\n",
       "      <td>2025-01-04</td>\n",
       "      <td>18,281.74</td>\n",
       "    </tr>\n",
       "    <tr>\n",
       "      <th>158</th>\n",
       "      <td>2025-01-11</td>\n",
       "      <td>18,325.85</td>\n",
       "    </tr>\n",
       "  </tbody>\n",
       "</table>\n",
       "<p>159 rows × 2 columns</p>\n",
       "</div>"
      ],
      "text/plain": [
       "          date   revenue\n",
       "0   2022-01-01      0.00\n",
       "1   2022-01-08      1.30\n",
       "2   2022-01-15     18.57\n",
       "3   2022-01-22     72.55\n",
       "4   2022-01-29    173.91\n",
       "..         ...       ...\n",
       "154 2024-12-14 17,968.34\n",
       "155 2024-12-21 18,151.65\n",
       "156 2024-12-28 18,269.34\n",
       "157 2025-01-04 18,281.74\n",
       "158 2025-01-11 18,325.85\n",
       "\n",
       "[159 rows x 2 columns]"
      ]
     },
     "execution_count": 380,
     "metadata": {},
     "output_type": "execute_result"
    }
   ],
   "source": [
    "df_awareness_rev"
   ]
  },
  {
   "cell_type": "code",
   "execution_count": null,
   "id": "688b7003-5994-458d-9bba-fd504699e864",
   "metadata": {},
   "outputs": [],
   "source": []
  },
  {
   "cell_type": "code",
   "execution_count": 371,
   "id": "c444d043-df63-4f4f-b148-31238817dfd8",
   "metadata": {},
   "outputs": [
    {
     "data": {
      "text/plain": [
       "array([0.00000000e+00, 1.30371634e+00, 1.85661839e+01, 7.25512823e+01,\n",
       "       1.73907190e+02, 3.32077308e+02, 5.49075135e+02, 7.91069574e+02,\n",
       "       1.02653829e+03, 1.23786500e+03, 1.40391043e+03, 1.55030080e+03,\n",
       "       1.69746127e+03, 1.84452473e+03, 2.02067058e+03, 2.23638311e+03,\n",
       "       2.44251756e+03, 2.67389431e+03, 2.92538730e+03, 3.13415250e+03,\n",
       "       3.32998249e+03, 3.52049971e+03, 3.68490345e+03, 3.86073819e+03,\n",
       "       4.06204085e+03, 4.24218326e+03, 4.44575699e+03, 4.62135985e+03,\n",
       "       4.80305769e+03, 4.99723118e+03, 5.15233594e+03, 5.29723459e+03,\n",
       "       5.46301514e+03, 5.61691519e+03, 5.79317398e+03, 6.03609478e+03,\n",
       "       6.22538220e+03, 6.44791922e+03, 6.64587663e+03, 6.81709536e+03,\n",
       "       6.97101490e+03, 7.11392547e+03, 7.21157548e+03, 7.30565895e+03,\n",
       "       7.45097704e+03, 7.56670032e+03, 7.72362424e+03, 7.89400603e+03,\n",
       "       8.03658177e+03, 8.17336832e+03, 8.29833550e+03, 8.42081486e+03,\n",
       "       8.52569554e+03, 8.48685074e+03, 8.34784317e+03, 8.26456362e+03,\n",
       "       8.20634753e+03, 8.17861891e+03, 8.30666349e+03, 8.39710705e+03,\n",
       "       8.42609811e+03, 8.45399103e+03, 8.44191825e+03, 8.46363081e+03,\n",
       "       8.47253335e+03, 8.47029448e+03, 8.51549909e+03, 8.57519349e+03,\n",
       "       8.63063449e+03, 8.77953902e+03, 8.80707133e+03, 8.74470791e+03,\n",
       "       8.71891099e+03, 8.69655505e+03, 8.75546124e+03, 8.79461908e+03,\n",
       "       8.95572652e+03, 9.04180106e+03, 9.17540671e+03, 9.24705587e+03,\n",
       "       9.31738138e+03, 9.43736080e+03, 9.42228865e+03, 9.49665781e+03,\n",
       "       9.54404506e+03, 9.63639964e+03, 9.79726514e+03, 9.94095922e+03,\n",
       "       1.01221816e+04, 1.02332947e+04, 1.04540168e+04, 1.06075339e+04,\n",
       "       1.08207476e+04, 1.10381388e+04, 1.12331245e+04, 1.13461527e+04,\n",
       "       1.16486918e+04, 1.18474179e+04, 1.19990545e+04, 1.22362328e+04,\n",
       "       1.24137402e+04, 1.25238953e+04, 1.26703109e+04, 1.29425293e+04,\n",
       "       1.31231049e+04, 1.33033163e+04, 1.34654039e+04, 1.35607192e+04,\n",
       "       1.35326797e+04, 1.36368155e+04, 1.38133572e+04, 1.39245488e+04,\n",
       "       1.40116870e+04, 1.42603147e+04, 1.44926423e+04, 1.45494618e+04,\n",
       "       1.45605292e+04, 1.46578090e+04, 1.46881269e+04, 1.47822710e+04,\n",
       "       1.49250791e+04, 1.50274392e+04, 1.51820594e+04, 1.53165877e+04,\n",
       "       1.54841602e+04, 1.56457251e+04, 1.57819322e+04, 1.59037744e+04,\n",
       "       1.60258567e+04, 1.61085485e+04, 1.62931475e+04, 1.65413748e+04,\n",
       "       1.65542067e+04, 1.69090181e+04, 1.70101980e+04, 1.71287771e+04,\n",
       "       1.72026050e+04, 1.72494180e+04, 1.73216210e+04, 1.74729406e+04,\n",
       "       1.77252431e+04, 1.77662129e+04, 1.77539936e+04, 1.78408643e+04,\n",
       "       1.79205414e+04, 1.78796227e+04, 1.79094150e+04, 1.78023127e+04,\n",
       "       1.79107993e+04, 1.78736055e+04, 1.78818849e+04, 1.79435013e+04,\n",
       "       1.79043695e+04, 1.79376214e+04, 1.79683404e+04, 1.81516479e+04,\n",
       "       1.82693359e+04, 1.82817435e+04, 1.83258494e+04])"
      ]
     },
     "execution_count": 371,
     "metadata": {},
     "output_type": "execute_result"
    }
   ],
   "source": [
    "rev_aw"
   ]
  },
  {
   "cell_type": "markdown",
   "id": "49836c48-f15d-4a8d-85b6-c0b94cf11492",
   "metadata": {},
   "source": [
    "### Scrap checking"
   ]
  },
  {
   "cell_type": "code",
   "execution_count": 368,
   "id": "76ea8b2f-b947-40e3-b045-2e795e2296f0",
   "metadata": {},
   "outputs": [
    {
     "data": {
      "text/plain": [
       "18281.74345720393"
      ]
     },
     "execution_count": 368,
     "metadata": {},
     "output_type": "execute_result"
    }
   ],
   "source": [
    "np.sum(np.flip(kernel_lead)*x_val_awareness[-53:-1],-1)"
   ]
  },
  {
   "cell_type": "code",
   "execution_count": 338,
   "id": "3ad6b4aa-631e-428e-abd9-149269a8765d",
   "metadata": {},
   "outputs": [
    {
     "data": {
      "text/plain": [
       "array([418518.247794, 417772.005373, 414581.565447])"
      ]
     },
     "execution_count": 338,
     "metadata": {},
     "output_type": "execute_result"
    }
   ],
   "source": [
    "rev_nat[-3:]"
   ]
  },
  {
   "cell_type": "code",
   "execution_count": 337,
   "id": "8c7d98d3-866b-4d25-b6b8-8fc974bac84a",
   "metadata": {},
   "outputs": [
    {
     "data": {
      "text/plain": [
       "array([0.00000000e+00, 1.30371634e+00, 1.85661839e+01, 7.25512823e+01,\n",
       "       1.73907190e+02, 3.32077308e+02, 5.49075135e+02, 7.91069574e+02,\n",
       "       1.02653829e+03, 1.23786500e+03, 1.40391043e+03, 1.55030080e+03,\n",
       "       1.69746127e+03, 1.84452473e+03, 2.02067058e+03, 2.23638311e+03,\n",
       "       2.44251756e+03, 2.67389431e+03, 2.92538730e+03, 3.13415250e+03,\n",
       "       3.32998249e+03, 3.52049971e+03, 3.68490345e+03, 3.86073819e+03,\n",
       "       4.06204085e+03, 4.24218326e+03, 4.44575699e+03, 4.62135985e+03,\n",
       "       4.80305769e+03, 4.99723118e+03, 5.15233594e+03, 5.29723459e+03,\n",
       "       5.46301514e+03, 5.61691519e+03, 5.79317398e+03, 6.03609478e+03,\n",
       "       6.22538220e+03, 6.44791922e+03, 6.64587663e+03, 6.81709536e+03,\n",
       "       6.97101490e+03, 7.11392547e+03, 7.21157548e+03, 7.30565895e+03,\n",
       "       7.45097704e+03, 7.56670032e+03, 7.72362424e+03, 7.89400603e+03,\n",
       "       8.03658177e+03, 8.17336832e+03, 8.29833550e+03, 8.42081486e+03,\n",
       "       8.52569554e+03, 8.48685074e+03, 8.34784317e+03, 8.26456362e+03,\n",
       "       8.20634753e+03, 8.17861891e+03, 8.30666349e+03, 8.39710705e+03,\n",
       "       8.42609811e+03, 8.45399103e+03, 8.44191825e+03, 8.46363081e+03,\n",
       "       8.47253335e+03, 8.47029448e+03, 8.51549909e+03, 8.57519349e+03,\n",
       "       8.63063449e+03, 8.77953902e+03, 8.80707133e+03, 8.74470791e+03,\n",
       "       8.71891099e+03, 8.69655505e+03, 8.75546124e+03, 8.79461908e+03,\n",
       "       8.95572652e+03, 9.04180106e+03, 9.17540671e+03, 9.24705587e+03,\n",
       "       9.31738138e+03, 9.43736080e+03, 9.42228865e+03, 9.49665781e+03,\n",
       "       9.54404506e+03, 9.63639964e+03, 9.79726514e+03, 9.94095922e+03,\n",
       "       1.01221816e+04, 1.02332947e+04, 1.04540168e+04, 1.06075339e+04,\n",
       "       1.08207476e+04, 1.10381388e+04, 1.12331245e+04, 1.13461527e+04,\n",
       "       1.16486918e+04, 1.18474179e+04, 1.19990545e+04, 1.22362328e+04,\n",
       "       1.24137402e+04, 1.25238953e+04, 1.26703109e+04, 1.29425293e+04,\n",
       "       1.31231049e+04, 1.33033163e+04, 1.34654039e+04, 1.35607192e+04,\n",
       "       1.35326797e+04, 1.36368155e+04, 1.38133572e+04, 1.39245488e+04,\n",
       "       1.40116870e+04, 1.42603147e+04, 1.44926423e+04, 1.45494618e+04,\n",
       "       1.45605292e+04, 1.46578090e+04, 1.46881269e+04, 1.47822710e+04,\n",
       "       1.49250791e+04, 1.50274392e+04, 1.51820594e+04, 1.53165877e+04,\n",
       "       1.54841602e+04, 1.56457251e+04, 1.57819322e+04, 1.59037744e+04,\n",
       "       1.60258567e+04, 1.61085485e+04, 1.62931475e+04, 1.65413748e+04,\n",
       "       1.65542067e+04, 1.69090181e+04, 1.70101980e+04, 1.71287771e+04,\n",
       "       1.72026050e+04, 1.72494180e+04, 1.73216210e+04, 1.74729406e+04,\n",
       "       1.77252431e+04, 1.77662129e+04, 1.77539936e+04, 1.78408643e+04,\n",
       "       1.79205414e+04, 1.78796227e+04, 1.79094150e+04, 1.78023127e+04,\n",
       "       1.79107993e+04, 1.78736055e+04, 1.78818849e+04, 1.79435013e+04,\n",
       "       1.79043695e+04, 1.79376214e+04, 1.79683404e+04, 1.81516479e+04,\n",
       "       1.82693359e+04, 1.82817435e+04, 1.83258494e+04])"
      ]
     },
     "execution_count": 337,
     "metadata": {},
     "output_type": "execute_result"
    }
   ],
   "source": [
    "rev_aw"
   ]
  },
  {
   "cell_type": "code",
   "execution_count": null,
   "id": "89537096-8b95-4bb4-9467-ee453229ba3e",
   "metadata": {},
   "outputs": [],
   "source": []
  },
  {
   "cell_type": "code",
   "execution_count": null,
   "id": "9f8a8142-9d2d-4e58-a383-d541bcfd4e55",
   "metadata": {},
   "outputs": [],
   "source": []
  },
  {
   "cell_type": "code",
   "execution_count": null,
   "id": "ad26603b-8384-4555-bc06-334a234d84f0",
   "metadata": {},
   "outputs": [],
   "source": []
  },
  {
   "cell_type": "markdown",
   "id": "9be4c500-1d45-423f-aabc-128fda19b34a",
   "metadata": {},
   "source": [
    "## Bunch of scrap"
   ]
  },
  {
   "cell_type": "code",
   "execution_count": 327,
   "id": "1f40c938-2f25-4c84-9039-64792c109601",
   "metadata": {},
   "outputs": [],
   "source": [
    "k = np.array([1,3,7,9,4,2])\n",
    "v = np.array([2,6,3,5,8,8,9,3,4,1])\n",
    "\n",
    "# k_mat = create_shifted_array(k, len(v))\n",
    "# conv = np.sum(k_mat*v, axis=1)"
   ]
  },
  {
   "cell_type": "code",
   "execution_count": 330,
   "id": "d245bf59-eb34-4747-8ab6-f0994b01a9f8",
   "metadata": {},
   "outputs": [
    {
     "data": {
      "text/plain": [
       "array([  2.,  12.,  35.,  74., 106., 122., 158., 184., 190., 163.])"
      ]
     },
     "execution_count": 330,
     "metadata": {},
     "output_type": "execute_result"
    }
   ],
   "source": [
    "calc_conv(k, v)"
   ]
  },
  {
   "cell_type": "code",
   "execution_count": 320,
   "id": "51c2f951-9b3e-4b4d-ad39-04d72766e56c",
   "metadata": {},
   "outputs": [
    {
     "data": {
      "text/plain": [
       "array([[ 2.,  0.,  0.,  0.,  0.,  0.,  0.,  0.,  0.,  0.],\n",
       "       [ 6.,  6.,  0.,  0.,  0.,  0.,  0.,  0.,  0.,  0.],\n",
       "       [14., 18.,  3.,  0.,  0.,  0.,  0.,  0.,  0.,  0.],\n",
       "       [18., 42.,  9.,  5.,  0.,  0.,  0.,  0.,  0.,  0.],\n",
       "       [ 8., 54., 21., 15.,  8.,  0.,  0.,  0.,  0.,  0.],\n",
       "       [ 4., 24., 27., 35., 24.,  8.,  0.,  0.,  0.,  0.],\n",
       "       [ 0., 12., 12., 45., 56., 24.,  9.,  0.,  0.,  0.],\n",
       "       [ 0.,  0.,  6., 20., 72., 56., 27.,  3.,  0.,  0.],\n",
       "       [ 0.,  0.,  0., 10., 32., 72., 63.,  9.,  4.,  0.],\n",
       "       [ 0.,  0.,  0.,  0., 16., 32., 81., 21., 12.,  1.]])"
      ]
     },
     "execution_count": 320,
     "metadata": {},
     "output_type": "execute_result"
    }
   ],
   "source": [
    "k_mat*v_out"
   ]
  },
  {
   "cell_type": "code",
   "execution_count": 319,
   "id": "c12327c4-0e26-4e6e-bf9e-177123cc3419",
   "metadata": {},
   "outputs": [
    {
     "data": {
      "text/plain": [
       "array([  2.,  12.,  35.,  74., 106., 122., 158., 184., 190., 163.])"
      ]
     },
     "execution_count": 319,
     "metadata": {},
     "output_type": "execute_result"
    }
   ],
   "source": [
    "np.sum(k_mat*v_out, -1)"
   ]
  },
  {
   "cell_type": "code",
   "execution_count": 317,
   "id": "ccdd7a18-a444-4054-bd8c-0ddec6b6eef5",
   "metadata": {},
   "outputs": [
    {
     "data": {
      "text/plain": [
       "array([2, 6, 3, 5, 8, 8, 9, 3, 4, 1])"
      ]
     },
     "execution_count": 317,
     "metadata": {},
     "output_type": "execute_result"
    }
   ],
   "source": [
    "v_out"
   ]
  },
  {
   "cell_type": "code",
   "execution_count": 306,
   "id": "a2f961e7-80a1-42cc-9547-49f54bf9805d",
   "metadata": {},
   "outputs": [
    {
     "data": {
      "text/plain": [
       "array([1, 3, 7, 9, 4, 2])"
      ]
     },
     "execution_count": 306,
     "metadata": {},
     "output_type": "execute_result"
    }
   ],
   "source": [
    "k.reshape(-1)"
   ]
  },
  {
   "cell_type": "code",
   "execution_count": 302,
   "id": "a94633a2-6ae9-4b65-ba12-c66858f98184",
   "metadata": {},
   "outputs": [
    {
     "data": {
      "text/plain": [
       "array([[1., 0., 0., 0., 0., 0., 0., 0., 0., 0.],\n",
       "       [3., 1., 0., 0., 0., 0., 0., 0., 0., 0.],\n",
       "       [7., 3., 1., 0., 0., 0., 0., 0., 0., 0.],\n",
       "       [9., 7., 3., 1., 0., 0., 0., 0., 0., 0.],\n",
       "       [4., 9., 7., 3., 1., 0., 0., 0., 0., 0.],\n",
       "       [2., 4., 9., 7., 3., 1., 0., 0., 0., 0.],\n",
       "       [0., 2., 4., 9., 7., 3., 1., 0., 0., 0.],\n",
       "       [0., 0., 2., 4., 9., 7., 3., 1., 0., 0.],\n",
       "       [0., 0., 0., 2., 4., 9., 7., 3., 1., 0.],\n",
       "       [0., 0., 0., 0., 2., 4., 9., 7., 3., 1.]])"
      ]
     },
     "execution_count": 302,
     "metadata": {},
     "output_type": "execute_result"
    }
   ],
   "source": [
    "k_mat"
   ]
  },
  {
   "cell_type": "code",
   "execution_count": 275,
   "id": "66d3fad7-dcde-49ab-8e60-c5bfaffe7cfd",
   "metadata": {},
   "outputs": [],
   "source": [
    "a = np.array([[3,2,1],[-1,0,4]])\n",
    "b = np.array([[1],[4],[6]])"
   ]
  },
  {
   "cell_type": "code",
   "execution_count": 294,
   "id": "4101f6c9-6f1d-4d21-b53f-9af954b6debf",
   "metadata": {},
   "outputs": [
    {
     "data": {
      "text/plain": [
       "array([[ 3,  2,  1],\n",
       "       [-1,  0,  4]])"
      ]
     },
     "execution_count": 294,
     "metadata": {},
     "output_type": "execute_result"
    }
   ],
   "source": [
    "a"
   ]
  },
  {
   "cell_type": "code",
   "execution_count": 295,
   "id": "53b6616d-9514-44f3-8507-1ad7d654a8e9",
   "metadata": {},
   "outputs": [
    {
     "data": {
      "text/plain": [
       "array([[1],\n",
       "       [4],\n",
       "       [6]])"
      ]
     },
     "execution_count": 295,
     "metadata": {},
     "output_type": "execute_result"
    }
   ],
   "source": [
    "b"
   ]
  },
  {
   "cell_type": "code",
   "execution_count": 296,
   "id": "1b4cbc16-c96f-465a-9a05-ef2b8f87a923",
   "metadata": {},
   "outputs": [
    {
     "data": {
      "text/plain": [
       "array([17, 23])"
      ]
     },
     "execution_count": 296,
     "metadata": {},
     "output_type": "execute_result"
    }
   ],
   "source": [
    "np.sum((a*b.reshape(-1)), -1)"
   ]
  },
  {
   "cell_type": "code",
   "execution_count": 287,
   "id": "62670cdc-c783-4626-a268-b298cb8fb33a",
   "metadata": {},
   "outputs": [
    {
     "data": {
      "text/plain": [
       "array([[[ 3,  2,  1],\n",
       "        [-1,  0,  4]],\n",
       "\n",
       "       [[12,  8,  4],\n",
       "        [-4,  0, 16]],\n",
       "\n",
       "       [[18, 12,  6],\n",
       "        [-6,  0, 24]]])"
      ]
     },
     "execution_count": 287,
     "metadata": {},
     "output_type": "execute_result"
    }
   ],
   "source": [
    "c"
   ]
  },
  {
   "cell_type": "code",
   "execution_count": 288,
   "id": "343087a5-0f12-49b9-8cff-b2a68f219fee",
   "metadata": {},
   "outputs": [
    {
     "data": {
      "text/plain": [
       "(3, 2, 3)"
      ]
     },
     "execution_count": 288,
     "metadata": {},
     "output_type": "execute_result"
    }
   ],
   "source": [
    "c.shape"
   ]
  },
  {
   "cell_type": "code",
   "execution_count": 267,
   "id": "f0e2e6d6-c084-4000-9a39-446e602c3007",
   "metadata": {},
   "outputs": [
    {
     "data": {
      "text/plain": [
       "[2, 6, 3, 5, 8, 8, 9, 3, 4, 1]"
      ]
     },
     "execution_count": 267,
     "metadata": {},
     "output_type": "execute_result"
    }
   ],
   "source": [
    "v"
   ]
  },
  {
   "cell_type": "code",
   "execution_count": 268,
   "id": "4a3749bf-5bdf-44fa-91f9-59beca35c4f9",
   "metadata": {},
   "outputs": [
    {
     "data": {
      "text/plain": [
       "array([[1., 0., 0., 0., 0., 0., 0., 0., 0., 0.],\n",
       "       [3., 1., 0., 0., 0., 0., 0., 0., 0., 0.],\n",
       "       [7., 3., 1., 0., 0., 0., 0., 0., 0., 0.],\n",
       "       [9., 7., 3., 1., 0., 0., 0., 0., 0., 0.],\n",
       "       [4., 9., 7., 3., 1., 0., 0., 0., 0., 0.],\n",
       "       [2., 4., 9., 7., 3., 1., 0., 0., 0., 0.],\n",
       "       [0., 2., 4., 9., 7., 3., 1., 0., 0., 0.],\n",
       "       [0., 0., 2., 4., 9., 7., 3., 1., 0., 0.],\n",
       "       [0., 0., 0., 2., 4., 9., 7., 3., 1., 0.],\n",
       "       [0., 0., 0., 0., 2., 4., 9., 7., 3., 1.]])"
      ]
     },
     "execution_count": 268,
     "metadata": {},
     "output_type": "execute_result"
    }
   ],
   "source": [
    "k_mat"
   ]
  },
  {
   "cell_type": "code",
   "execution_count": 269,
   "id": "30114a41-b19b-49aa-8fe8-767d546e9391",
   "metadata": {},
   "outputs": [
    {
     "data": {
      "text/plain": [
       "array([[ 2.,  0.,  0.,  0.,  0.,  0.,  0.,  0.,  0.,  0.],\n",
       "       [ 6.,  6.,  0.,  0.,  0.,  0.,  0.,  0.,  0.,  0.],\n",
       "       [14., 18.,  3.,  0.,  0.,  0.,  0.,  0.,  0.,  0.],\n",
       "       [18., 42.,  9.,  5.,  0.,  0.,  0.,  0.,  0.,  0.],\n",
       "       [ 8., 54., 21., 15.,  8.,  0.,  0.,  0.,  0.,  0.],\n",
       "       [ 4., 24., 27., 35., 24.,  8.,  0.,  0.,  0.,  0.],\n",
       "       [ 0., 12., 12., 45., 56., 24.,  9.,  0.,  0.,  0.],\n",
       "       [ 0.,  0.,  6., 20., 72., 56., 27.,  3.,  0.,  0.],\n",
       "       [ 0.,  0.,  0., 10., 32., 72., 63.,  9.,  4.,  0.],\n",
       "       [ 0.,  0.,  0.,  0., 16., 32., 81., 21., 12.,  1.]])"
      ]
     },
     "execution_count": 269,
     "metadata": {},
     "output_type": "execute_result"
    }
   ],
   "source": [
    "k_mat*v"
   ]
  },
  {
   "cell_type": "code",
   "execution_count": 270,
   "id": "cc69fdaa-f91b-44ac-9655-faf489b24174",
   "metadata": {},
   "outputs": [
    {
     "data": {
      "text/plain": [
       "array([  2.,  12.,  35.,  74., 106., 122., 158., 184., 190., 163.])"
      ]
     },
     "execution_count": 270,
     "metadata": {},
     "output_type": "execute_result"
    }
   ],
   "source": [
    "conv"
   ]
  },
  {
   "cell_type": "code",
   "execution_count": 226,
   "id": "feb43438-2e83-4237-852a-eeb1b967d099",
   "metadata": {},
   "outputs": [
    {
     "data": {
      "text/plain": [
       "array([0., 0., 0., 0., 0.])"
      ]
     },
     "execution_count": 226,
     "metadata": {},
     "output_type": "execute_result"
    }
   ],
   "source": [
    "np.zeros(5)"
   ]
  },
  {
   "cell_type": "code",
   "execution_count": 220,
   "id": "59f84f16-962d-4ee9-ba0e-a3d2a3801de3",
   "metadata": {},
   "outputs": [],
   "source": [
    "k = np.array(kernel_app)\n",
    "v = np.array(x_val_national)\n",
    "\n",
    "t = len(v)\n",
    "\n",
    "output = create_shifted_array(k, np.arange(t))"
   ]
  },
  {
   "cell_type": "code",
   "execution_count": 223,
   "id": "457d1e17-5a34-46cd-a4fe-779649aa02b0",
   "metadata": {},
   "outputs": [
    {
     "data": {
      "text/plain": [
       "array([ 0.294394,  3.691986,  9.650219, 16.641804, 24.975806, 32.94221 ,\n",
       "       35.600198, 34.971241, 30.611367, 24.572852, 24.899847, 24.157337,\n",
       "       26.070872, 31.462738, 38.157705, 36.705655, 40.954153, 38.866414,\n",
       "       30.180865, 29.089487, 26.101259, 26.398611, 29.386438, 34.679509,\n",
       "       36.379112, 40.484554, 38.400775, 35.725115, 31.162839, 26.279154,\n",
       "       23.568867, 26.014152, 29.950694, 34.583563, 40.421887, 38.738536,\n",
       "       35.794609, 33.121956, 28.367263, 23.192897, 24.486925, 24.946243,\n",
       "       30.709768, 37.485607, 37.302613, 32.473372, 32.83107 , 27.955761,\n",
       "       23.369885, 23.738781, 24.448994, 27.387037])"
      ]
     },
     "execution_count": 223,
     "metadata": {},
     "output_type": "execute_result"
    }
   ],
   "source": [
    "k"
   ]
  },
  {
   "cell_type": "code",
   "execution_count": 225,
   "id": "24e500c4-aaa4-4c43-9e83-1e7484b152c3",
   "metadata": {},
   "outputs": [
    {
     "data": {
      "text/plain": [
       "array([ 0.      ,  0.      ,  0.      ,  0.      ,  0.      ,  0.      ,\n",
       "        0.      ,  0.      ,  0.294394,  3.691986,  9.650219, 16.641804,\n",
       "       24.975806, 32.94221 , 35.600198, 34.971241, 30.611367, 24.572852,\n",
       "       24.899847, 24.157337, 26.070872, 31.462738, 38.157705, 36.705655,\n",
       "       40.954153, 38.866414, 30.180865, 29.089487, 26.101259, 26.398611,\n",
       "       29.386438, 34.679509, 36.379112, 40.484554, 38.400775, 35.725115,\n",
       "       31.162839, 26.279154, 23.568867, 26.014152, 29.950694, 34.583563,\n",
       "       40.421887, 38.738536, 35.794609, 33.121956, 28.367263, 23.192897,\n",
       "       24.486925, 24.946243, 30.709768, 37.485607])"
      ]
     },
     "execution_count": 225,
     "metadata": {},
     "output_type": "execute_result"
    }
   ],
   "source": [
    "output[8,:]"
   ]
  },
  {
   "cell_type": "code",
   "execution_count": 196,
   "id": "90e88715-006a-4f96-93bd-49ec789be42c",
   "metadata": {},
   "outputs": [],
   "source": [
    "v = np.array(x_val_national)\n",
    "k = np.array(kernel_app)\n",
    "\n",
    "ii = 25\n",
    "val = np.min(ii, len(k))\n",
    "\n",
    "k_tmp = k[:val]\n",
    "v_tmp = np.flip(v[ii- :ii])"
   ]
  },
  {
   "cell_type": "code",
   "execution_count": 195,
   "id": "7f3bcafc-2543-465e-ba4d-fafa6f2e0a29",
   "metadata": {},
   "outputs": [
    {
     "data": {
      "text/plain": [
       "array([ 0.294394,  3.691986,  9.650219, 16.641804, 24.975806, 32.94221 ,\n",
       "       35.600198, 34.971241, 30.611367, 24.572852, 24.899847, 24.157337,\n",
       "       26.070872, 31.462738, 38.157705, 36.705655, 40.954153, 38.866414,\n",
       "       30.180865, 29.089487, 26.101259, 26.398611, 29.386438, 34.679509,\n",
       "       36.379112, 40.484554, 38.400775, 35.725115, 31.162839, 26.279154,\n",
       "       23.568867, 26.014152, 29.950694, 34.583563, 40.421887, 38.738536,\n",
       "       35.794609, 33.121956, 28.367263, 23.192897, 24.486925, 24.946243,\n",
       "       30.709768, 37.485607, 37.302613, 32.473372, 32.83107 , 27.955761,\n",
       "       23.369885, 23.738781, 24.448994, 27.387037])"
      ]
     },
     "execution_count": 195,
     "metadata": {},
     "output_type": "execute_result"
    }
   ],
   "source": [
    "np.mul(k[:val], v["
   ]
  },
  {
   "cell_type": "code",
   "execution_count": null,
   "id": "e7079a57-1233-457a-904d-ed19f3005c18",
   "metadata": {},
   "outputs": [],
   "source": []
  },
  {
   "cell_type": "code",
   "execution_count": 192,
   "id": "9ed15a51-4a9d-478e-adc4-397ff83544c6",
   "metadata": {},
   "outputs": [
    {
     "name": "stdout",
     "output_type": "stream",
     "text": [
      "0\n",
      "1\n",
      "2\n",
      "3\n",
      "4\n",
      "5\n",
      "6\n",
      "7\n",
      "8\n",
      "9\n",
      "10\n",
      "11\n",
      "12\n",
      "13\n",
      "14\n",
      "15\n",
      "16\n",
      "17\n",
      "18\n",
      "19\n",
      "20\n",
      "21\n",
      "22\n",
      "23\n",
      "24\n",
      "25\n",
      "26\n",
      "27\n",
      "28\n",
      "29\n",
      "30\n",
      "31\n",
      "32\n",
      "33\n",
      "34\n",
      "35\n",
      "36\n",
      "37\n",
      "38\n",
      "39\n",
      "40\n",
      "41\n",
      "42\n",
      "43\n",
      "44\n",
      "45\n",
      "46\n",
      "47\n",
      "48\n",
      "49\n",
      "50\n",
      "51\n",
      "52\n",
      "53\n",
      "54\n",
      "55\n",
      "56\n",
      "57\n",
      "58\n",
      "59\n",
      "60\n",
      "61\n",
      "62\n",
      "63\n",
      "64\n",
      "65\n",
      "66\n",
      "67\n",
      "68\n",
      "69\n",
      "70\n",
      "71\n",
      "72\n",
      "73\n",
      "74\n",
      "75\n",
      "76\n",
      "77\n",
      "78\n",
      "79\n",
      "80\n",
      "81\n",
      "82\n",
      "83\n",
      "84\n",
      "85\n",
      "86\n",
      "87\n",
      "88\n",
      "89\n",
      "90\n",
      "91\n",
      "92\n",
      "93\n",
      "94\n",
      "95\n",
      "96\n",
      "97\n",
      "98\n",
      "99\n",
      "100\n",
      "101\n",
      "102\n",
      "103\n",
      "104\n",
      "105\n",
      "106\n",
      "107\n",
      "108\n",
      "109\n",
      "110\n",
      "111\n",
      "112\n",
      "113\n",
      "114\n",
      "115\n",
      "116\n",
      "117\n",
      "118\n",
      "119\n",
      "120\n",
      "121\n",
      "122\n",
      "123\n",
      "124\n",
      "125\n",
      "126\n",
      "127\n",
      "128\n",
      "129\n",
      "130\n",
      "131\n",
      "132\n",
      "133\n",
      "134\n",
      "135\n",
      "136\n",
      "137\n",
      "138\n",
      "139\n",
      "140\n",
      "141\n",
      "142\n",
      "143\n",
      "144\n",
      "145\n",
      "146\n",
      "147\n",
      "148\n",
      "149\n",
      "150\n",
      "151\n",
      "152\n",
      "153\n",
      "154\n",
      "155\n",
      "156\n",
      "157\n",
      "158\n"
     ]
    }
   ],
   "source": [
    "v = np.array(x_val_national)\n",
    "k = np.array(kernel_app)\n",
    "\n",
    "n_time = len(v)\n",
    "n_kernel = len(k)\n",
    "\n",
    "\n",
    "dummy = [0]*n_time\n",
    "\n",
    "for ii in np.arange(n_time):\n",
    "    for jj in np.arange(np.max(0, ii-jj))"
   ]
  },
  {
   "cell_type": "code",
   "execution_count": 190,
   "id": "68828819-29f2-4c8b-ac08-f300da30e48d",
   "metadata": {},
   "outputs": [
    {
     "data": {
      "text/plain": [
       "[0,\n",
       " 0,\n",
       " 0,\n",
       " 0,\n",
       " 0,\n",
       " 0,\n",
       " 0,\n",
       " 0,\n",
       " 0,\n",
       " 0,\n",
       " 0,\n",
       " 0,\n",
       " 0,\n",
       " 0,\n",
       " 0,\n",
       " 0,\n",
       " 0,\n",
       " 0,\n",
       " 0,\n",
       " 0,\n",
       " 0,\n",
       " 0,\n",
       " 0,\n",
       " 0,\n",
       " 0,\n",
       " 0,\n",
       " 0,\n",
       " 0,\n",
       " 0,\n",
       " 0,\n",
       " 0,\n",
       " 0,\n",
       " 0,\n",
       " 0,\n",
       " 0,\n",
       " 0,\n",
       " 0,\n",
       " 0,\n",
       " 0,\n",
       " 0,\n",
       " 0,\n",
       " 0,\n",
       " 0,\n",
       " 0,\n",
       " 0,\n",
       " 0,\n",
       " 0,\n",
       " 0,\n",
       " 0,\n",
       " 0,\n",
       " 0,\n",
       " 0,\n",
       " 0,\n",
       " 0,\n",
       " 0,\n",
       " 0,\n",
       " 0,\n",
       " 0,\n",
       " 0,\n",
       " 0,\n",
       " 0,\n",
       " 0,\n",
       " 0,\n",
       " 0,\n",
       " 0,\n",
       " 0,\n",
       " 0,\n",
       " 0,\n",
       " 0,\n",
       " 0,\n",
       " 0,\n",
       " 0,\n",
       " 0,\n",
       " 0,\n",
       " 0,\n",
       " 0,\n",
       " 0,\n",
       " 0,\n",
       " 0,\n",
       " 0,\n",
       " 0,\n",
       " 0,\n",
       " 0,\n",
       " 0,\n",
       " 0,\n",
       " 0,\n",
       " 0,\n",
       " 0,\n",
       " 0,\n",
       " 0,\n",
       " 0,\n",
       " 0,\n",
       " 0,\n",
       " 0,\n",
       " 0,\n",
       " 0,\n",
       " 0,\n",
       " 0,\n",
       " 0,\n",
       " 0,\n",
       " 0,\n",
       " 0,\n",
       " 0,\n",
       " 0,\n",
       " 0,\n",
       " 0,\n",
       " 0,\n",
       " 0,\n",
       " 0,\n",
       " 0,\n",
       " 0,\n",
       " 0,\n",
       " 0,\n",
       " 0,\n",
       " 0,\n",
       " 0,\n",
       " 0,\n",
       " 0,\n",
       " 0,\n",
       " 0,\n",
       " 0,\n",
       " 0,\n",
       " 0,\n",
       " 0,\n",
       " 0,\n",
       " 0,\n",
       " 0,\n",
       " 0,\n",
       " 0,\n",
       " 0,\n",
       " 0,\n",
       " 0,\n",
       " 0,\n",
       " 0,\n",
       " 0,\n",
       " 0,\n",
       " 0,\n",
       " 0,\n",
       " 0,\n",
       " 0,\n",
       " 0,\n",
       " 0,\n",
       " 0,\n",
       " 0,\n",
       " 0,\n",
       " 0,\n",
       " 0,\n",
       " 0,\n",
       " 0,\n",
       " 0,\n",
       " 0,\n",
       " 0,\n",
       " 0,\n",
       " 0,\n",
       " 0,\n",
       " 0,\n",
       " 0,\n",
       " 0,\n",
       " 0]"
      ]
     },
     "execution_count": 190,
     "metadata": {},
     "output_type": "execute_result"
    }
   ],
   "source": []
  },
  {
   "cell_type": "code",
   "execution_count": 175,
   "id": "3f78f0ed-eee9-44aa-ad48-fc68e32046a3",
   "metadata": {},
   "outputs": [
    {
     "data": {
      "text/plain": [
       "array([4242.18326149, 4445.75699413, 4621.35985227, 4803.05768884,\n",
       "       4997.23117776, 5152.33593682, 5297.23458648, 5463.0151396 ,\n",
       "       5616.91519304, 5793.17397691])"
      ]
     },
     "execution_count": 175,
     "metadata": {},
     "output_type": "execute_result"
    }
   ],
   "source": [
    "np.convolve(kernel_lead, x_val_awareness, mode='same')[:10]"
   ]
  },
  {
   "cell_type": "code",
   "execution_count": 176,
   "id": "9f268ed9-d6dc-46b0-a5db-170d347f5e6b",
   "metadata": {},
   "outputs": [
    {
     "data": {
      "text/plain": [
       "array([ 0., 20., 34., 31., 34., 33., 20., 28., 35., 31.])"
      ]
     },
     "execution_count": 176,
     "metadata": {},
     "output_type": "execute_result"
    }
   ],
   "source": [
    "x_val_awareness[:10]"
   ]
  },
  {
   "cell_type": "code",
   "execution_count": 177,
   "id": "f8f06fe8-41bb-4e44-b8db-dab7e3ff0256",
   "metadata": {},
   "outputs": [
    {
     "data": {
      "text/plain": [
       "array([0.06518582, 0.81749331, 2.13678747, 3.6848903 , 5.53023609,\n",
       "       7.29418697, 7.88272859, 7.74346258, 6.77808303, 5.44101252,\n",
       "       5.51341697, 5.34900764, 5.77270969, 6.96659677, 8.44902132,\n",
       "       8.127503  , 9.06822127, 8.60594631, 6.68275967, 6.44110268,\n",
       "       5.77943809, 5.84527888, 6.50685468, 7.6788662 , 8.05519863,\n",
       "       8.96424091, 8.50284279, 7.91038818, 6.90019201, 5.81882827,\n",
       "       5.21870642, 5.76015054, 6.63179435, 7.65762148, 8.95036495,\n",
       "       8.57763109, 7.9257758 , 7.333987  , 6.28118515, 5.13545774,\n",
       "       5.42198624, 5.52369014, 6.79987134, 8.30020288, 8.25968366,\n",
       "       7.19037512, 7.26957794, 6.19006884, 5.17464708, 5.25632941,\n",
       "       5.41358742, 6.06413985])"
      ]
     },
     "execution_count": 177,
     "metadata": {},
     "output_type": "execute_result"
    }
   ],
   "source": [
    "kernel_lead"
   ]
  },
  {
   "cell_type": "code",
   "execution_count": null,
   "id": "72eabd6d-cecd-405f-959b-1cad6702fe7f",
   "metadata": {},
   "outputs": [],
   "source": [
    "### convolution\n",
    "kernel = rev_map.values.flatten() #len = 52\n",
    "x_val_a = np.array(df_kpi_cohort_weekly_aware['n_app'].values) #len = 159\n",
    "revenue_app_aware = np.convolve(x_val_a, kernel, mode='same')\n",
    "\n",
    "df_kpi_cohort_weekly_aware['revenue_app'] = revenue_app_aware\n",
    "df_kpi_cohort_weekly_aware['revenue_lead'] = revenue_app_aware * l2a_aware_conv\n",
    "\n",
    "kernel = rev_map.values.flatten() #len = 52\n",
    "x_val_n = np.array(df_kpi_cohort_weekly_national['n_app'].values) #len = 159\n",
    "revenue_app_national = np.convolve(x_val_n, kernel, mode='same')\n",
    "\n",
    "df_kpi_cohort_weekly_national['revenue_app'] = revenue_app_national\n",
    "df_kpi_cohort_weekly_national['revenue_lead'] = revenue_app_national * l2a_national_conv"
   ]
  },
  {
   "cell_type": "markdown",
   "id": "e20d206c-1c00-495e-a863-5a4cacacbd70",
   "metadata": {},
   "source": [
    "# Wrangle media"
   ]
  },
  {
   "cell_type": "code",
   "execution_count": null,
   "id": "d2b533f6-35d1-4c7d-b2a6-27b84658c17b",
   "metadata": {},
   "outputs": [],
   "source": []
  }
 ],
 "metadata": {
  "kernelspec": {
   "display_name": "Python 3 (ipykernel)",
   "language": "python",
   "name": "python3"
  },
  "language_info": {
   "codemirror_mode": {
    "name": "ipython",
    "version": 3
   },
   "file_extension": ".py",
   "mimetype": "text/x-python",
   "name": "python",
   "nbconvert_exporter": "python",
   "pygments_lexer": "ipython3",
   "version": "3.11.5"
  }
 },
 "nbformat": 4,
 "nbformat_minor": 5
}
